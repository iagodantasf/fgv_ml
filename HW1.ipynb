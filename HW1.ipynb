{
 "cells": [
  {
   "cell_type": "markdown",
   "id": "980bc892-6032-4936-94da-3bd3168c7b2c",
   "metadata": {},
   "source": [
    "# Lista prática I"
   ]
  },
  {
   "cell_type": "markdown",
   "id": "3e0bb64c-85cc-4db3-b8c6-944e91f4cfb4",
   "metadata": {},
   "source": [
    "**Instruções gerais:** Sua submissão deve conter: \n",
    "1. Um \"ipynb\" com seu código e as soluções dos problemas\n",
    "2. Uma versão pdf do ipynp"
   ]
  },
  {
   "cell_type": "markdown",
   "id": "b2b5aa8a-d9d6-4853-8656-5deb70eb9aa2",
   "metadata": {},
   "source": [
    "## Vizinhos mais próximos"
   ]
  },
  {
   "cell_type": "markdown",
   "id": "cf948679-f995-40a7-b45d-9d39ebedcfdf",
   "metadata": {},
   "source": [
    "**Exercício 1.** O código abaixo carrega o dataset MNIST, que consiste em imagens de dígitos entre $0$ e $9$. Teste o $k$-NN com distância euclidiana para classificação do conjunto de teste. Use valores de $k$ diferentes (e.g., de 1 a 5) e reporte a acurácia para cada valor de $k$. Lembre que a acurácia é o percentual de amostras classificadas corretamente. Notavelmente, as entradas do MNIST tem dimensão relativamente alta (64). Plote uma imagem com a variância amostral dos pixels das imagens e comente. Também mostre as imagens classificadas de maneira errônea e comente."
   ]
  },
  {
   "cell_type": "code",
   "execution_count": null,
   "id": "70f9ff1f-f56a-4758-ba23-fd8e5bb78fd4",
   "metadata": {},
   "outputs": [],
   "source": [
    "from dataclasses import dataclass\n",
    "\n",
    "import matplotlib.pyplot as plt\n",
    "import numpy as np\n",
    "import seaborn as sns\n",
    "from sklearn.datasets import load_digits, make_moons\n",
    "from sklearn.model_selection import train_test_split\n",
    "\n",
    "\n",
    "SEED = 42\n",
    "np.random.seed(SEED)\n",
    "\n",
    "@dataclass\n",
    "class Dataset:\n",
    "    features_train: np.ndarray \n",
    "    features_test: np.ndarray  \n",
    "    labels_train: np.ndarray   \n",
    "    labels_test: np.ndarray\n",
    "\n",
    "# Import dataset and separate train/test subsets\n",
    "mnist = Dataset(*train_test_split(\n",
    "    *load_digits(return_X_y=True),\n",
    "    random_state=SEED,\n",
    "))"
   ]
  },
  {
   "cell_type": "code",
   "execution_count": null,
   "id": "41a43e9a-1db2-4fcc-9b66-0dc04afbdd98",
   "metadata": {},
   "outputs": [],
   "source": []
  },
  {
   "cell_type": "markdown",
   "id": "089112e2-194f-412a-ac7a-a7d7ff1f0ada",
   "metadata": {},
   "source": [
    "**Exercício 02.** O código abaixo carrega o dataset \"two moons\", que consiste de amostras bidimensionais divididas em duas classes. Teste o $k$-NN com distância euclidiana para classificação do conjunto de teste. Use valores de $k$ diferentes (e.g., de 1 a 10). Plote a superfície de decisão para cada valor de $k$. Como $k$ influencia na suavidade dessas superfícies?"
   ]
  },
  {
   "cell_type": "code",
   "execution_count": null,
   "id": "323a8995-a1f7-4c78-9f0e-bd723e631f58",
   "metadata": {},
   "outputs": [],
   "source": [
    "# Import dataset and separate train/test subsets\n",
    "moon = Dataset(*train_test_split(\n",
    "    *make_moons(n_samples=200, shuffle=True, noise=0.25, random_state=SEED),\n",
    "    random_state=SEED,\n",
    "))\n",
    "\n",
    "# Let's also plot the moon dataset, for you to take a look at it.\n",
    "sns.scatterplot(\n",
    "    x=moon.features_train[:, 0],\n",
    "    y=moon.features_train[:, 1],\n",
    "    hue=moon.labels_train,\n",
    ")\n",
    "plt.show()"
   ]
  },
  {
   "cell_type": "code",
   "execution_count": null,
   "id": "a53d020a-2938-483d-a5e8-fd260bdcee89",
   "metadata": {},
   "outputs": [],
   "source": []
  }
 ],
 "metadata": {
  "kernelspec": {
   "display_name": "Python 3 (ipykernel)",
   "language": "python",
   "name": "python3"
  },
  "language_info": {
   "codemirror_mode": {
    "name": "ipython",
    "version": 3
   },
   "file_extension": ".py",
   "mimetype": "text/x-python",
   "name": "python",
   "nbconvert_exporter": "python",
   "pygments_lexer": "ipython3",
   "version": "3.9.13"
  }
 },
 "nbformat": 4,
 "nbformat_minor": 5
}
